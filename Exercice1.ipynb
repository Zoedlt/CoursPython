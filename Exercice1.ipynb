{
 "cells": [
  {
   "cell_type": "markdown",
   "metadata": {},
   "source": [
    "# Exercice 1\n",
    "\n",
    "## Lecture des données à partir d'un fichier\n",
    "\n",
    "- Télécharger le fichier « *files/VentesAgenceU.csv* » qui se trouve sur https://github.com/mkirschpin/CoursPython   \n",
    "- Réaliser la lecture du « VentesAgenceU.csv » sur un DataFrame \n",
    "- Utiliser ensuite info pour afficher les informations de ce DataFrame\n",
    "- Utiliser  head et tail pour afficher les 10 premières/dernières lignes de données \n",
    "- Utiliser describe pour une analyse rapide de ces données\n"
   ]
  },
  {
   "cell_type": "code",
   "execution_count": null,
   "metadata": {},
   "outputs": [],
   "source": []
  },
  {
   "cell_type": "markdown",
   "metadata": {},
   "source": [
    "## Gérer les cellules vides\n",
    "\n",
    "- Supprimer la colonne vide (« Unnamed: 6 »)\n",
    "- Supprimer les lignes vides à la fin du fichier\n",
    "- Utiliser info et tail pour vérifier vous actions \n"
   ]
  },
  {
   "cell_type": "code",
   "execution_count": null,
   "metadata": {},
   "outputs": [],
   "source": []
  },
  {
   "cell_type": "markdown",
   "metadata": {},
   "source": [
    "## Convertir les dates\n",
    "\n",
    "- Utiliser to_datetime pour convertir en dates les données de la colonne « DATE FACTURE »\n",
    "- Modifier les données sur le DataFrame « ventes »\n",
    "- Utiliser info et tail pour vérifier vous actions \n"
   ]
  },
  {
   "cell_type": "code",
   "execution_count": null,
   "metadata": {},
   "outputs": [],
   "source": []
  }
 ],
 "metadata": {
  "language_info": {
   "name": "python"
  },
  "orig_nbformat": 4
 },
 "nbformat": 4,
 "nbformat_minor": 2
}
