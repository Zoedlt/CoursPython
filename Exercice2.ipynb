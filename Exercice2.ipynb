{
 "cells": [
  {
   "cell_type": "markdown",
   "metadata": {},
   "source": [
    "# Exercice 2\n",
    "\n",
    "## Lecture d'un dataset\n",
    "\n",
    "- Télécharger le fichier « *files/VentesPropre.csv* » qui se trouve sur *https://github.com/mkirschpin/CoursPython* \n",
    "\n",
    "- Réaliser la lecture du «  VentesPropre.csv » sur un DataFrame \n",
    "- Convertir la colonne « DATE FACTURE » en date \n",
    "\n",
    "- Trouver les factures de plus de 2000 € datant d’après le 1/9/2008  \n",
    "- Trouver les factures du vendeur DEVAUX\n",
    "- Comparer la sortie de ces deux instructions : que font elles ?\n",
    "    - ``ventes.query(\" `VENDEUR` == 'DEVEAUX' \").mean(numeric_only=True)``\n",
    "    - ``ventes.groupby(by='VENDEUR').mean()``\n"
   ]
  },
  {
   "cell_type": "code",
   "execution_count": null,
   "metadata": {},
   "outputs": [],
   "source": []
  },
  {
   "cell_type": "markdown",
   "metadata": {},
   "source": [
    "## Trouver des données\n",
    "\n",
    "- Trouver la valeur moyenne des factures par vendeur\n",
    "- Trouver le nombre de factures par vendeur \n",
    "- Trouver la somme des factures par secteur\n"
   ]
  },
  {
   "cell_type": "code",
   "execution_count": null,
   "metadata": {},
   "outputs": [],
   "source": []
  },
  {
   "cell_type": "markdown",
   "metadata": {},
   "source": [
    "## Visualisation des données\n",
    "\n",
    "- Créer un graphique en bar du nombre de factures par vendeur\n",
    "- Créer un graphique camembert (pie) du nombre de factures par secteur\n",
    "- Créer un graphique à moustache (boxplot) du montant des factures par vendeur\n"
   ]
  },
  {
   "cell_type": "code",
   "execution_count": null,
   "metadata": {},
   "outputs": [],
   "source": []
  },
  {
   "cell_type": "markdown",
   "metadata": {},
   "source": [
    "- Observer la sortie des instructions suivantes \n",
    "    - ``moyennes = ventes.groupby(by='VENDEUR').mean()``\n",
    "    - ``print(moyennes)``\n",
    "\n",
    "- Réaliser un graphique en bar avec ces informations  \n"
   ]
  },
  {
   "cell_type": "code",
   "execution_count": null,
   "metadata": {},
   "outputs": [],
   "source": []
  }
 ],
 "metadata": {
  "language_info": {
   "name": "python"
  },
  "orig_nbformat": 4
 },
 "nbformat": 4,
 "nbformat_minor": 2
}
