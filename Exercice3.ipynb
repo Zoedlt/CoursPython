{
 "cells": [
  {
   "cell_type": "markdown",
   "id": "60b7fa27-3ce3-45cd-bd88-70a38d27ba04",
   "metadata": {},
   "source": [
    "# Exercice 3 - Introduction arbres de décision\n",
    "\n",
    "## Premier exemple d'arbre de décision\n",
    "\n",
    "### Construction du dataset \n",
    "\n",
    "- Créer le DataFrame de training : *dfUmbrella = pnd.DataFrame ( { 'Chance Rain':[0.1, 0.9, 0.3, 0.1, 0.8], 'UV Index': [11, 1, 3, 2, 2] , 'Umbrella' : [True, True, False, False, True] } )*\n",
    "- Identifier dans deux variables les features et le target\n",
    "- Créer le DataFrame de test : *x_test = pnd.DataFrame ( { 'Chance Rain':[0.5, 0.2], 'UV Index': [5, 8] } )* \n",
    "\n"
   ]
  },
  {
   "cell_type": "code",
   "execution_count": null,
   "metadata": {},
   "outputs": [],
   "source": []
  },
  {
   "cell_type": "markdown",
   "metadata": {},
   "source": [
    "### Première arbre de décision\n",
    "\n",
    "- Créer son objet ***DecisionTreeClassifier***\n",
    "- Entrainer son modèle (***fit***)\n",
    "- Tester son modèle (***predict***)\n"
   ]
  },
  {
   "cell_type": "code",
   "execution_count": null,
   "metadata": {},
   "outputs": [],
   "source": []
  },
  {
   "cell_type": "markdown",
   "metadata": {},
   "source": [
    "### Visualisation de l'arbre\n",
    "\n",
    "- Utiliser export_text pour visualiser \u000bl’arbre de décision réalisée\n",
    "- Utiliser plot_tree pour produire une image de l’arbre \n",
    "- Afficher l’importance des features utilisées \n"
   ]
  },
  {
   "cell_type": "code",
   "execution_count": null,
   "metadata": {},
   "outputs": [],
   "source": []
  }
 ],
 "metadata": {
  "language_info": {
   "name": "python"
  },
  "orig_nbformat": 4
 },
 "nbformat": 4,
 "nbformat_minor": 2
}
