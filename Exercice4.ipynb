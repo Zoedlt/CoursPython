{
 "cells": [
  {
   "cell_type": "markdown",
   "metadata": {},
   "source": [
    "# Exercice 4 : Arbres de décision (suite)\n",
    "\n",
    "Pour nos prochains exercices, on utilisera le dataset Iris fourni avec SciKit Learn \n",
    "\n",
    "## Exercice : Préparation dataset Iris \n",
    "### Import des données\n",
    "- Importer les datasets de SciKit Learn : *from sklearn import datasets*\n",
    "- Charger le dataset Iris dans une variable : *iris = datasets.load_iris()*\n",
    "- Utiliser la fonction *dir* pour voir les attributs de l’objet iris\n",
    "- Afficher le description de l’objet iris (attribut *iris.DESCR*)\n",
    "- Afficher les noms des *features* (*iris.feature_names*) et des *targets* (*iris.target_names*) contenues dans le dataset. \n"
   ]
  },
  {
   "cell_type": "code",
   "execution_count": null,
   "metadata": {},
   "outputs": [],
   "source": []
  },
  {
   "cell_type": "markdown",
   "metadata": {},
   "source": [
    "### Construction des DataFrame\n",
    "\n",
    "- Construire un nouveau DataFrame *df_iris* avec les données issues du dataset Iris :\n",
    "*df_iris = pnd.DataFrame ( iris.data, columns=iris.feature_names )*\n",
    "- Ajouter une colonne *target* au DataFrame avec les valeurs de targets du dataset (*iris.target*). \n",
    "- Afficher les premières lignes du nouveau DataFrame\n"
   ]
  },
  {
   "cell_type": "code",
   "execution_count": null,
   "metadata": {},
   "outputs": [],
   "source": []
  },
  {
   "cell_type": "markdown",
   "metadata": {},
   "source": [
    "## Séparation données training et tests\n",
    "\n",
    "- Séparer le DataFrame df_iris en deux ensembles\n",
    "    - *iris_train* : DF pour le training \n",
    "    - *iris_test* : DF pour les tests\n",
    "- Regarder avec *info* les informations de chaque ensemble\n",
    "- Afficher les premières lignes de chaque ensemble "
   ]
  },
  {
   "cell_type": "code",
   "execution_count": null,
   "metadata": {},
   "outputs": [],
   "source": []
  },
  {
   "cell_type": "markdown",
   "metadata": {},
   "source": [
    "## Exercice :  Choix des features et du target\n",
    "\n",
    "On va utiliser toutes les features du dataset Iris pour l’analyse\n",
    "\n",
    "- Préparer deux variables *x_train* et *y_train* avec les données d’entrainement (respectivement *features* et *target*)\n",
    "- Faire la même chose avec les données de *test* (*x_test* et *y_test*)"
   ]
  },
  {
   "cell_type": "code",
   "execution_count": null,
   "metadata": {},
   "outputs": [],
   "source": []
  },
  {
   "cell_type": "markdown",
   "metadata": {},
   "source": [
    "## Exercice : Entrainement du modèle\n",
    "- Créer un arbre de décision \n",
    "- Entrainer le modèle avec les variables de training qu’on vient de créer\n",
    "- Afficher l’arbre entrainée "
   ]
  },
  {
   "cell_type": "code",
   "execution_count": null,
   "metadata": {},
   "outputs": [],
   "source": []
  },
  {
   "cell_type": "markdown",
   "metadata": {},
   "source": [
    "## Exercice : Tester & évaluer le modèle\n",
    "- Utiliser le modèle avec les données de test\n",
    "- Afficher les valeurs obtenues  \n",
    "- Utiliser la métrique *accuracy* afin d’évaluer les résultats\n",
    "- Utiliser la métrique *precision* afin d’évaluer les résultats par label \n"
   ]
  },
  {
   "cell_type": "code",
   "execution_count": null,
   "metadata": {},
   "outputs": [],
   "source": []
  },
  {
   "cell_type": "markdown",
   "metadata": {},
   "source": [
    "## Exercice : Illustration principe de validation croisée\n",
    "\n"
   ]
  },
  {
   "cell_type": "code",
   "execution_count": null,
   "metadata": {},
   "outputs": [],
   "source": []
  },
  {
   "cell_type": "markdown",
   "metadata": {},
   "source": [
    "## Exercice : Réaliser une validation croisée\n",
    "\n",
    "- Toujours avec le dataset Iris, réaliser une validation croisée\n",
    "- Construire un DataFrame avec les résultats\n",
    "- Afficher les résultats obtenus \n"
   ]
  },
  {
   "cell_type": "code",
   "execution_count": null,
   "metadata": {},
   "outputs": [],
   "source": []
  }
 ],
 "metadata": {
  "language_info": {
   "name": "python"
  },
  "orig_nbformat": 4
 },
 "nbformat": 4,
 "nbformat_minor": 2
}
