{
 "cells": [
  {
   "cell_type": "markdown",
   "metadata": {},
   "source": [
    "# Exercice Arbres de regression \n",
    "\n",
    "Premier exercice de prise en main des arbres de régression. \n",
    "\n",
    "On va essayer de prévoir la taille de quelqu'un à partir de son sexe (homme / femme). C'est con comme exemple, mais ça donne une bonne idée du fonctionnement de la chose... \n"
   ]
  },
  {
   "cell_type": "markdown",
   "metadata": {},
   "source": [
    "## Création du dataset\n",
    "\n",
    "On va démarrer par la construction d'un dataset bidon, avec des valeurs plus ou moins aléatoires. On va organiser la population en 2 types : les petits et les grands pour chaque sexe.   \n",
    "\n",
    "- créer quatre *arrays* avec des valeurs aléatoires de taille. Utiliser l'opération **random.normal** de la bibliothèque **numpy** pour générer quatre ensembles avec les moyennes de 155, 165, 175 et 185 ;  \n",
    "- concatener (\"coller\") les deux premiers ensembles dans un seul *array* ***height_f*** (taille femmes), à l'aide de l'opération **concatenate** de la bibliothèque **numpy**. Faites la même chose pour les deux autres arrays, en créant alors un *array* ***height_m*** (taille homme) ;\n",
    "- afficher les 10 premiers valeurs de l'array ***height_f*** (utiliser le slice ***height_f [0:10]***) et les 10 derniers valeurs de l'array ***height_m*** (utiliser le slice ***height_m[190:200]***). \n"
   ]
  },
  {
   "cell_type": "markdown",
   "metadata": {},
   "source": []
  },
  {
   "cell_type": "markdown",
   "metadata": {},
   "source": [
    "Maintenant qu'on a les array avec les données aléatoires, on va pouvoir créer un ***DataFrame*** avec l'ensemble de valeurs.\n",
    "- créer un DataFrame ***df_height*** avec une colonne \"*Gender*\" et une colonne \"*Height*\" comme suit :\n",
    "> df_height = pnd.DataFrame(\n",
    "    {\n",
    "        'Gender': [1 for i in range(height_f.size)] + [2 for i in range(height_m.size)],\n",
    "        'Height': np.concatenate((height_f, height_m))\n",
    "    }\n",
    ")\n",
    "- utiliser l'opération ***sample*** des DataFrames pour afficher 5 lignes aléatoires du DataFrame qu'on vient de créer\n",
    "- utiliser l'opération ***describe*** des DataFrames pour avoir une description de DataFrame qu'on vient de créer\n",
    "- que nous renseigne l'opération suivante :\n",
    "> df_height.groupby(by='Gender').agg(['mean', 'median', 'max', 'min']) "
   ]
  },
  {
   "cell_type": "code",
   "execution_count": null,
   "metadata": {},
   "outputs": [],
   "source": []
  },
  {
   "cell_type": "markdown",
   "metadata": {},
   "source": [
    "On peut essayer d'afficher les données du DataFrame qu'on vient de créer dans un graphique.  "
   ]
  },
  {
   "cell_type": "code",
   "execution_count": null,
   "metadata": {},
   "outputs": [],
   "source": []
  },
  {
   "cell_type": "markdown",
   "metadata": {},
   "source": [
    "## Division des données en training et test\n",
    "\n",
    "- diviser le DataFrame en training et test (proportion 70% / 30%) à l'aide de l'opération ***train_test_split***\n",
    "- afficher les premières lignes du dataset de training à l'aide de l'opération ***head***\n",
    "- séparer les *features* et *target* des datasets training et test. Par exemple : \n",
    "> x_train = df_train [['Gender']]\n",
    "- afficher trois lignes aléatoires du dataset ***x_train*** à l'aide de l'opération ***sample***.  \n"
   ]
  },
  {
   "cell_type": "code",
   "execution_count": null,
   "metadata": {},
   "outputs": [],
   "source": []
  },
  {
   "cell_type": "markdown",
   "metadata": {},
   "source": [
    "## Créer et entrainer le modèle\n",
    "\n",
    "Une fois les datasets training et test préparés, on va pouvoir entrainer et tester le modèle.\n",
    "\n",
    "- créer deux modèles d'arbres de régression, un avec le critère ***mae*** et l'autre avec le critère ***mse***.\n",
    "- entrainer les deux modèles avec les données de training. \n",
    "- afficher la profondeur de deux arbres créées avec l'opération ***get_depth()***\n",
    "- visualiser les deux arbres crées"
   ]
  },
  {
   "cell_type": "code",
   "execution_count": null,
   "metadata": {},
   "outputs": [],
   "source": []
  },
  {
   "cell_type": "markdown",
   "metadata": {},
   "source": [
    "## Evaluer le modèle\n",
    "\n",
    "- utiliser les données de tests avec les deux arbres qu'on vient d'entrainer\n",
    "- afficher les 5 premières données de prévision obtenus avec les arbres (utiliser le *slice* **[0:5]**)\n",
    "- utiliser les mesures d'évaluation ***mean_squared_error*** et ***mean_absolute_error*** (sur laquelle on va appliquer la fonction ***sqrt*** de la bibliothèque ***math***) pour évaluer les deux arbres \n",
    "- afficher les résultats obtenus dans les évaluations. "
   ]
  },
  {
   "cell_type": "code",
   "execution_count": null,
   "metadata": {},
   "outputs": [],
   "source": []
  }
 ],
 "metadata": {
  "language_info": {
   "name": "python"
  },
  "orig_nbformat": 4
 },
 "nbformat": 4,
 "nbformat_minor": 2
}
