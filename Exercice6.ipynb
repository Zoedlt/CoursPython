{
 "cells": [
  {
   "cell_type": "markdown",
   "metadata": {},
   "source": [
    "# Exercice Régression Linéaire\n",
    "\n",
    "Pour notre premier exercice de régression linéaire, on va créer un modèle simple qui prévoit la température à partir de l'humidité. \n",
    "\n",
    "## Lecture des données\n",
    "\n",
    "On commence par lire les données à partir d'un fichier. \n",
    "\n",
    "- lire le fichier \"*weather.csv*\" (disponible sur [http://www.kirschpm.fr/cours/PythonDataScience/files/](http://www.kirschpm.fr/cours/PythonDataScience/files/weather.csv) ) avec l'opération ***read_csv***\n",
    "- afficher les informations sur le DataFrame créé (opération ***info***)\n",
    "- affichier les premières lignes du DataFrame (opération ***head***)\n"
   ]
  },
  {
   "cell_type": "code",
   "execution_count": null,
   "metadata": {},
   "outputs": [],
   "source": []
  },
  {
   "cell_type": "markdown",
   "metadata": {},
   "source": [
    "## Séparer les données de training et de test\n",
    "\n",
    "On va utiliser une seule **feature** (***Humidity***) pour trouver notre **target** (***Temperature_c***). \n",
    "\n",
    "- créer deux listes, une contenant les noms des colonnes features, et une pour le nom de colonne target\n",
    "- A partir des données de *training* (***df_train***), créer un DataFrame ***x_train*** avec les valeurs des features et un DataFrame ***y_train*** avec les valeurs de target\n",
    "- Faire la même chose pour les données de test (créer un ***x_test*** et un ***y_test*** à partir de ***df_test***). \n"
   ]
  },
  {
   "cell_type": "code",
   "execution_count": null,
   "metadata": {},
   "outputs": [],
   "source": []
  },
  {
   "cell_type": "markdown",
   "metadata": {},
   "source": [
    "## Entrainer le modèle\n",
    "\n",
    "- Créer un nouveau modèle de **régression linéaire**  \n",
    "- Entrainer le modèle avec les données de test\n",
    "- Observer les valeurs des attributs ***intercept_*** et ***coef_***"
   ]
  },
  {
   "cell_type": "code",
   "execution_count": null,
   "metadata": {},
   "outputs": [],
   "source": []
  },
  {
   "cell_type": "markdown",
   "metadata": {},
   "source": [
    "## Tester le modèle\n",
    "\n",
    "Une fois créé et entrainé, il faut désormais tester le modèle afin d'évaluer sa performance. \n",
    "\n",
    "- Tester le modèle avec les données de test\n",
    "- Visualiser les données prédites et atttendues"
   ]
  },
  {
   "cell_type": "code",
   "execution_count": null,
   "metadata": {},
   "outputs": [],
   "source": []
  },
  {
   "cell_type": "markdown",
   "metadata": {},
   "source": [
    "## Evaluer le modèle\n",
    "\n",
    "Afin évaluer le modèle, on va comparer les données obtenues (prévues) avec celles attendues à travers différentes métriques. \n",
    "\n",
    "- évaluer le modèle à l'aide des métriques MAE, MSE et RMSE\n",
    "- évaluer le modèle à l'aide de la métrique *explained variance*\n",
    "- afficher les résultats obtenues par ces métriques"
   ]
  },
  {
   "cell_type": "code",
   "execution_count": null,
   "metadata": {},
   "outputs": [],
   "source": []
  },
  {
   "cell_type": "markdown",
   "metadata": {},
   "source": [
    "# Exercice Régression Linéaire - variables multiples\n",
    "\n",
    "Maintenant qu'on maitrise les étapes pour la construction et l'évaluation du modèle, on peut l'améliorer en ajoutant des nouvelles variables (*features*) disponibles dans les données de base. \n"
   ]
  },
  {
   "cell_type": "code",
   "execution_count": null,
   "metadata": {},
   "outputs": [],
   "source": []
  },
  {
   "cell_type": "markdown",
   "metadata": {},
   "source": [
    "## Encoding \n",
    "\n",
    "Les données contiennent une colonne de type ***object*** (autrement dit, qui ne contient pas des chiffres). Il faut donc la convertir en valeur numériques, ce qu'on appelle ***encoding***. \n",
    "\n",
    "Différents types d'encodeurs existent. On va utiliser un encodeur de type ***One Hot*** proposé par la classe ***DataFrame*** de la bibliothèque ***Pandas***. \n",
    "\n",
    "- afficher les catégories présentes dans la colonne \"*Description*\"\n",
    "- encoder ces catégories à l'aide de l'encodeur ***get_dummies***\n",
    "- afficher les premières lignes du DataFrame obtenu\n",
    "- afficher les informations sur ce DataFrame\n"
   ]
  },
  {
   "cell_type": "code",
   "execution_count": null,
   "metadata": {},
   "outputs": [],
   "source": []
  },
  {
   "cell_type": "markdown",
   "metadata": {},
   "source": [
    "## Séparation training et test sets\n",
    "\n",
    "On va refaire la séparation entre training et test à partir de notre nouveau DataFrame ***df_dummies***.\n",
    "- faire la séparation entre training et test du DataFrame ***df_dummies***\n",
    "- prendre comme Y (**y_train** et **y_test**) la colonne \"*Temperature_c*\"\n",
    "- pour le X (**x_train** et **x_test**), supprimer simplement la colonne \"*Temperature_c*\" du DataFrame ***df_dummies***\n"
   ]
  },
  {
   "cell_type": "code",
   "execution_count": null,
   "metadata": {},
   "outputs": [],
   "source": []
  },
  {
   "cell_type": "markdown",
   "metadata": {},
   "source": [
    "## Création et Entrainement nouveau modèle\n",
    "\n",
    "- créer et entrainer un nouveau modèle de régression linéaire\n",
    "- afficher les valeurs des attributs \"***intercept_***\" et \"***coef_***\"\n"
   ]
  },
  {
   "cell_type": "code",
   "execution_count": null,
   "metadata": {},
   "outputs": [],
   "source": []
  },
  {
   "cell_type": "markdown",
   "metadata": {},
   "source": [
    "## Tester et Evaluer le modèle\n",
    "- Utiliser les données de test pour tester le modèle\n",
    "- évaluer les valeurs obtenues avec les métriques MSA, MSE et RMSE, et *explained variance*"
   ]
  },
  {
   "cell_type": "code",
   "execution_count": null,
   "metadata": {},
   "outputs": [],
   "source": []
  }
 ],
 "metadata": {
  "language_info": {
   "name": "python"
  },
  "orig_nbformat": 4
 },
 "nbformat": 4,
 "nbformat_minor": 2
}
