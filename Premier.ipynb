{
 "cells": [
  {
   "cell_type": "markdown",
   "metadata": {},
   "source": [
    "# Premiers pas\n",
    "Mon premier exercice avec les Notebooks Python..."
   ]
  },
  {
   "cell_type": "code",
   "execution_count": null,
   "metadata": {},
   "outputs": [],
   "source": []
  },
  {
   "cell_type": "markdown",
   "metadata": {},
   "source": [
    "## Prise en main Dictionnaires et Listes\n",
    "\n",
    "- Créer un dictionnaire nommé « eleve » avec les informations suivantes\n",
    "    - Nom : Toto\n",
    "    - Matr : 100\n",
    "    - Formation : ‘marketing’ \n",
    "- Afficher le nom de l’élève \n",
    "- Créer une liste nommée « notes » avec les valeurs suivantes \n",
    "    - 12.5 , 9.5 et 14.5\n",
    "- Afficher la première note\n",
    "- Insérer la liste de notes dans le \u000bdictionnaire élève \n",
    "- Afficher le dictionnaire "
   ]
  },
  {
   "cell_type": "code",
   "execution_count": null,
   "metadata": {},
   "outputs": [],
   "source": []
  },
  {
   "cell_type": "markdown",
   "metadata": {},
   "source": [
    "## Prise en main DataFrame\n",
    "\n",
    "- Créer une variable « monDF » avec le DataFrame suivant \n",
    "    - *DataFrame ( { 'Habitants' : [ 8, 70, 320, 1200 ], 'Capital': ['Geneve', 'Paris', 'Washington', 'Pequin'] }, index=['Suisse', 'France', 'USA', 'Chine'])*\n",
    "- Utiliser les opérations « info » et « describe » pour obtenir des informations sur le DataFrame\t\n",
    "    - *monDF.info()*\n",
    "    - *monDF.describe()*\n",
    "\n",
    "Avec le DataFrame « monDF » qu’on vient de créer\n",
    "- Trouver la capital de la France\n",
    "    - *monDF.loc [ 'France' ] [ 'Capital' ]*\n",
    "- Trouver les pays qui ont plus de 100 mil. habitants\n",
    "    - *monDF.loc [ monDF [ 'Habitants' ] > 100 ]*\n",
    "- Trouver les pays qui ont + de 100 mil. ET - de 1000 mil. habitants\n",
    "    - *monDF.loc [ ( monDF [ 'Habitants' ] > 100 ) & ( monDF [ 'Habitants' ] < 1000 ) ]*"
   ]
  },
  {
   "cell_type": "code",
   "execution_count": null,
   "metadata": {},
   "outputs": [],
   "source": []
  },
  {
   "cell_type": "markdown",
   "metadata": {},
   "source": [
    "## Prise en main de Dropna\n",
    "\n",
    "- Créer un nouveau DataFrame avec les données suivantes : *df2 = pnd.DataFrame({'A':[0, pnd.NA, 1, -2],  'B':['Titi', 'Toto', 'Tata', 'Tutu'], 'C':['2020-01-01', '2021-02-02', pnd.NaT, '2019-12-30']})*\n",
    "- Vérifier la création du DataFrame avec l’opération info\n",
    "- Observer les effets des opérations suivantes :\n",
    "    - *df2.dropna(axis='columns')*\n",
    "    - *df2.dropna(axis='index')*\n",
    "    - *df2.dropna(inplace=True)*\n"
   ]
  },
  {
   "cell_type": "code",
   "execution_count": null,
   "metadata": {},
   "outputs": [],
   "source": []
  },
  {
   "cell_type": "markdown",
   "metadata": {},
   "source": [
    "## Prise en main des dates\n",
    "\n",
    "- Créer un nouveau DataFrame avec les données suivantes : *dfDates = pnd.DataFrame ({ 'Debut': ['2021-09-13', '2022-01-24'], 'Fin' : ['17/12/2021', '23/04/2022'], 'Examens':['01042022', '05042022'],  'Semestre' : ['S1', 'S2'] } )*\n",
    "- Afficher les données\n",
    "- Vérifier le DataFrame avec info\n",
    "- Observer les effets des opérations suivantes :\n",
    "    - *pnd.to_datetime(dfDates['Debut'], yearfirst=True)*\n",
    "    - *pnd.to_datetime(dfDates['Fin'], dayfirst=True)*\n",
    "    - *pnd.to_datetime(dfDates['Examens'], format='%m%d%Y')*\n",
    "\n",
    "\n"
   ]
  },
  {
   "cell_type": "code",
   "execution_count": null,
   "metadata": {},
   "outputs": [],
   "source": []
  },
  {
   "cell_type": "markdown",
   "metadata": {},
   "source": [
    "## Prise en main Matplotlib\n",
    "\n",
    "- Créer un nouveau DataFrame avec les données suivantes : *donnees = pnd.DataFrame({'note': [2, 5, 12, 18, 10],  'rendus':[1, 3, 5, 7, 9 ], \t'nom':['Titi','Toto','Tata','Tarbes','Titus']})*\n",
    "- Créer un graphique en ligne pour afficher les notes en fonction des rendus\n",
    "- Créer un graphique en bar pour afficher les notes associées à chaque nom\n",
    "\n"
   ]
  },
  {
   "cell_type": "code",
   "execution_count": null,
   "metadata": {},
   "outputs": [],
   "source": []
  }
 ],
 "metadata": {
  "language_info": {
   "name": "python"
  },
  "orig_nbformat": 4
 },
 "nbformat": 4,
 "nbformat_minor": 2
}
