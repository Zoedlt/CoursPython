{
 "cells": [
  {
   "cell_type": "markdown",
   "metadata": {},
   "source": [
    "# Exercice prise en main DataFrame\n",
    "## Exercice 1\n",
    "Créer un nouveau **DataFrame** avec les données suivantes : \n",
    "- colonne A :[0, NA, 1, -2]\n",
    "- colonne B :['Titi', 'Toto', 'Tata', 'Tutu'],\n",
    "- colonne C :['2020-01-01', '2021-02-02', NaT, '2019-12-30']\n",
    "\n",
    "*Pour les valeur NA (NaN) et NT (NaT), utiliser les constantes ***NA*** et ***NAT*** définies par la bibliothèque Pandas (pnd.NA, pnd.NaT).* \n"
   ]
  },
  {
   "cell_type": "code",
   "execution_count": null,
   "metadata": {},
   "outputs": [],
   "source": []
  },
  {
   "cell_type": "markdown",
   "metadata": {},
   "source": [
    "## Exercice 2\n",
    "(**Ajouter un bloc de code pour chaque élément de la question**)\n",
    "\n",
    "- Afficher uniquement les valeurs de la colonne A.\n",
    "- Afficher les lignes dont la valeur de la colonne C est suppérieur au '2019-12-31'. \n",
    "- Afficher les lignes dont la valeur de la colonne A est au moins 0 et les valeurs de la colonne C sont antérieures au '2019-12-31'.  \n"
   ]
  },
  {
   "cell_type": "code",
   "execution_count": null,
   "metadata": {},
   "outputs": [],
   "source": []
  },
  {
   "cell_type": "markdown",
   "metadata": {},
   "source": [
    "## Exercice 3\n",
    "(**Ajouter un bloc de code pour chaque élément de la question**)\n",
    "- Supprimer (*sans modifier le DataFrame d'origine*) les colonnes contenant des valeurs NA. Quels éléments restent-ils ?  \n",
    "- Supprimer (*sans modifier le DataFrame d'origine*) les lignes contenant des valeurs NA. Quels éléments restent-ils ? \n",
    "- Supprimer (*en modifiant le DataFrame d'origine*) les lignes et les colonnes contenant des valeurs NA. Que rest-il du Dataframe originelle ?"
   ]
  },
  {
   "cell_type": "code",
   "execution_count": null,
   "metadata": {},
   "outputs": [],
   "source": []
  }
 ],
 "metadata": {
  "language_info": {
   "name": "python"
  },
  "orig_nbformat": 4
 },
 "nbformat": 4,
 "nbformat_minor": 2
}
