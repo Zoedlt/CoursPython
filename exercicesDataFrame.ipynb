{
 "cells": [
  {
   "cell_type": "markdown",
   "metadata": {},
   "source": [
    "# Exercice prise en main DataFrame\n",
    "## Exercice 1\n",
    "Créer un nouveau **DataFrame** avec les données suivantes : \n",
    "- colonne A :[0, NA, 1, -2]\n",
    "- colonne B :['Titi', 'Toto', 'Tata', 'Tutu'],\n",
    "- colonne C :['2020-01-01', '2021-02-02', NaT, '2019-12-30']\n",
    "\n",
    "*Pour les valeur NA (NaN) et NT (NaT), utiliser les constantes ***NA*** et ***NAT*** définies par la bibliothèque Pandas.* \n"
   ]
  },
  {
   "cell_type": "code",
   "execution_count": null,
   "metadata": {},
   "outputs": [],
   "source": []
  },
  {
   "cell_type": "markdown",
   "metadata": {},
   "source": [
    "## Exercice 2\n",
    "(**Ajouter un bloc de code pour chaque élément de la question**)\n",
    "\n",
    "- Afficher uniquement les valeurs de la colonne A.\n",
    "- Afficher les lignes dont la valeur de la colonne C est suppérieur au '2019-12-31'. \n",
    "- Afficher les lignes dont la valeur de la colonne C est au moins 0 et les valeurs de la colonne C sont antérieures au '2019-12-31'.  \n"
   ]
  },
  {
   "cell_type": "code",
   "execution_count": null,
   "metadata": {},
   "outputs": [],
   "source": []
  },
  {
   "cell_type": "markdown",
   "metadata": {},
   "source": [
    "## Exercice 3\n",
    "(**Ajouter un bloc de code pour chaque élément de la question**)\n",
    "- Supprimer (*sans modifier le DataFrame d'origine*) les colonnes contenant des valeurs NA. Quels éléments restent-ils ?  \n",
    "- Supprimer (*sans modifier le DataFrame d'origine*) les lignes contenant des valeurs NA. Quels éléments restent-ils ? \n",
    "- Supprimer (*en modifiant le DataFrame d'origine*) les lignes et les colonnes contenant des valeurs NA. Que rest-il du Dataframe originelle ?"
   ]
  },
  {
   "cell_type": "code",
   "execution_count": null,
   "metadata": {},
   "outputs": [],
   "source": []
  },
  {
   "cell_type": "markdown",
   "metadata": {},
   "source": [
    "# Exercice manipulation des données\n",
    "## Exercice 1\n",
    "(**Ajouter différents blocs de code pour chaque partie de la question**)\n",
    "\n",
    "Réaliser la ecture de la dateset ***\"files/VentesAgenceU.csv\"***. Utiliser ensuite **info** pour afficher les informations sur le **DataFrame**, et utiliser **head/tail** pour afficher les 10 premières/dernières lignes de données lues. "
   ]
  },
  {
   "cell_type": "code",
   "execution_count": null,
   "metadata": {},
   "outputs": [],
   "source": []
  },
  {
   "cell_type": "markdown",
   "metadata": {},
   "source": [
    "## Exercice 2\n",
    "(**Ajouter différents blocs de code pour chaque partie de la question**)\n",
    "\n",
    "Corriger les données :\n",
    "- La colonne 'DATE FACTURE' doit être du type DateTime\n",
    "- Supprimer les espaces blancs dans le nom de la colonne MONTANT.\n",
    "    - utiliser \"columns\" pour afficher le nom des colonnes et voir ces espaces avant et après le mot \"MONTANT\"\n",
    "    - on peut soit changer que le nom de cette colonne, soit utiliser str.strip pour supprimer les espaces blancs avant et après tous les noms de colonnes \n",
    "- Corriger les valeurs dans la colonne MONTANT de manière à qu'on puisse le convertir en float\n",
    "- Convertir les valeurs de la colonne MONTANT en float  "
   ]
  },
  {
   "cell_type": "code",
   "execution_count": null,
   "metadata": {},
   "outputs": [],
   "source": []
  },
  {
   "cell_type": "markdown",
   "metadata": {},
   "source": [
    "## Exercice 3\n",
    "Continuer le nettoyage du dataset en supprimant la colonne vide (*\"Unnamed: 6\"*) et les lignes contenant des valeurs \"*NaN*\" (null). \n",
    "Afficher les 10 dernières lignes du *DataFrame* originel afin de vérifier la bonne réalisation de l'opération. "
   ]
  },
  {
   "cell_type": "code",
   "execution_count": null,
   "metadata": {},
   "outputs": [],
   "source": []
  },
  {
   "cell_type": "markdown",
   "metadata": {},
   "source": [
    "## Exercice 4 - describe & stats\n",
    "(**Ajouter plusieurs blocs de code pour répondre à chaque partie de la question**)\n",
    "\n",
    "- utiliser l'opération  ***describe*** pour afficher une description rapide des données obtenues. Que pouvons-nous apprendre grâce à cette méthode ? \n",
    "- si on utilise l'opération ***sum*** sur le dataframe, qu'obtient-on comme information ? Et si on lui rajoute le paramètre ***numeric_only=True*** ? "
   ]
  },
  {
   "cell_type": "code",
   "execution_count": null,
   "metadata": {},
   "outputs": [],
   "source": []
  },
  {
   "cell_type": "markdown",
   "metadata": {},
   "source": [
    "## Exercice 5 - query\n",
    "(**Ajouter plusieurs blocs de code pour répondre à chaque partie de la question**)\n",
    "\n",
    "Avec l'opération ***query*** ou l'opération ***loc***, retrouver :\n",
    "- les factures datant d'au moins le *2008-09-01*\n",
    "- les factures de plus de 1700€ du client 'CLI206'  \n",
    "\n",
    "Avec l'opération ***mean***, retrouver le montant moyen des factures du client 'CLI206'. "
   ]
  },
  {
   "cell_type": "code",
   "execution_count": null,
   "metadata": {},
   "outputs": [],
   "source": []
  },
  {
   "cell_type": "markdown",
   "metadata": {},
   "source": [
    "## Exercice 6 - groupby\n",
    "A l'aide des opérations ***groupby***, ***sum***, ***count*** ou ***size***,  retrouver :\n",
    "- le nombre de factures par client\n",
    "- le nombre de factures par vendeur  \n",
    "- la somme total des factures par client\n",
    "- la somme total des factures par vendeur\n",
    "\n",
    "Que nous permet-elle de voir la ligne ?\n",
    " \n",
    "`` ventes.query(\"`CODE CLIENT` == 'CLI206' \").mean(numeric_only=True) ``\n"
   ]
  },
  {
   "cell_type": "code",
   "execution_count": null,
   "metadata": {},
   "outputs": [],
   "source": []
  }
 ],
 "metadata": {
  "language_info": {
   "name": "python"
  },
  "orig_nbformat": 4
 },
 "nbformat": 4,
 "nbformat_minor": 2
}
