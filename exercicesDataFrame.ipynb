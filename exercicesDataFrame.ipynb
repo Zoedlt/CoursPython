{
 "cells": [
  {
   "cell_type": "markdown",
   "source": [
    "# Exercice\n",
    "## Exercice 1\n",
    "Réaliser la ecture de la dateset *\"files/VentesAgenceU.csv\"*. Utiliser ensuite *info* pour afficher les informations sur le DataFrame, et utiliser *head/tail* pour afficher les 10 premières/dernières lignes de données lues. "
   ],
   "metadata": {}
  },
  {
   "cell_type": "code",
   "execution_count": null,
   "source": [],
   "outputs": [],
   "metadata": {}
  },
  {
   "cell_type": "markdown",
   "source": [
    "## Exercice 2\n",
    "Corriger les données :\n",
    "- La colonne 'DATE FACTURE' doit être du type DateTime\n",
    "- Supprimer les espaces blancs dans le nom de la colonne MONTANT.\n",
    "    - utiliser \"columns\" pour afficher le nom des colonnes et voir ces espaces avant et après le mot \"MONTANT\"\n",
    "    - on peut soit changer que le nom de cette colonne, soit utiliser str.strip pour supprimer les espaces blancs avant et après tous les noms de colonnes \n",
    "- Corriger les valeurs dans la colonne MONTANT de manière à qu'on puisse le convertir en float\n",
    "- Convertir les valeurs de la colonne MONTANT en float  "
   ],
   "metadata": {}
  },
  {
   "cell_type": "code",
   "execution_count": null,
   "source": [],
   "outputs": [],
   "metadata": {}
  },
  {
   "cell_type": "markdown",
   "source": [
    "## Exercice 3\n",
    "Continuer le nettoyage du dataset en supprimant la colonne vide (*\"Unnamed: 6\"*) et les lignes contenant des valeurs \"*NaN*\" (null). "
   ],
   "metadata": {}
  },
  {
   "cell_type": "code",
   "execution_count": null,
   "source": [],
   "outputs": [],
   "metadata": {}
  }
 ],
 "metadata": {
  "orig_nbformat": 4,
  "language_info": {
   "name": "python"
  }
 },
 "nbformat": 4,
 "nbformat_minor": 2
}