{
 "cells": [
  {
   "cell_type": "markdown",
   "source": [
    "## Series\n",
    "La classe Series (sur *Pandas*) permet la manipulation des séries de valeurs indexées (bref, une séquence de valeurs de type *<key, value>*), particulièrement appréciées pour la manipulation des séries temporelles. \n",
    " "
   ],
   "metadata": {}
  },
  {
   "cell_type": "code",
   "execution_count": 4,
   "source": [
    "from pandas import Series\n",
    "maserie = Series ( [8, 70, 320, 1200], index=[\"Suisse\", \"France\", \"USA\", \"Chine\"])\n",
    "print(maserie)"
   ],
   "outputs": [
    {
     "output_type": "stream",
     "name": "stdout",
     "text": [
      "Suisse       8\n",
      "France      70\n",
      "USA        320\n",
      "Chine     1200\n",
      "dtype: int64\n"
     ]
    }
   ],
   "metadata": {}
  },
  {
   "cell_type": "markdown",
   "source": [
    "On peut créer une série à partir d'une liste, d'un dictionnaire ou même d'un Array NumPy. "
   ],
   "metadata": {}
  },
  {
   "cell_type": "code",
   "execution_count": 5,
   "source": [
    "import numpy as np\n",
    "\n",
    "monarray = np.random.randn(5)\n",
    "s2 = Series (monarray, index=[\"A\",\"B\",\"C\",\"D\",\"E\"])\n",
    "\n",
    "print (monarray,'\\n', s2)"
   ],
   "outputs": [
    {
     "output_type": "stream",
     "name": "stdout",
     "text": [
      "[-0.96850466 -1.99478449 -1.6655539  -1.22318014 -0.35159315] \n",
      " A   -0.968505\n",
      "B   -1.994784\n",
      "C   -1.665554\n",
      "D   -1.223180\n",
      "E   -0.351593\n",
      "dtype: float64\n"
     ]
    }
   ],
   "metadata": {}
  },
  {
   "cell_type": "markdown",
   "source": [
    "Attention par contre à la référence : l'objet Series fera toujours référence à l'objet d'origine (c'est une vue, pas une copie). Si celui-ci est modifié, la série le sera aussi. "
   ],
   "metadata": {}
  },
  {
   "cell_type": "code",
   "execution_count": 6,
   "source": [
    "monarray[1]=-14\n",
    "print(s2)"
   ],
   "outputs": [
    {
     "output_type": "stream",
     "name": "stdout",
     "text": [
      "A    -0.968505\n",
      "B   -14.000000\n",
      "C    -1.665554\n",
      "D    -1.223180\n",
      "E    -0.351593\n",
      "dtype: float64\n"
     ]
    }
   ],
   "metadata": {}
  },
  {
   "cell_type": "markdown",
   "source": [
    "On peut faire une copie d'un array avec *copy*, mais **attention** à la conso mémoire.  "
   ],
   "metadata": {}
  },
  {
   "cell_type": "code",
   "execution_count": 7,
   "source": [
    "s2 = Series (monarray.copy(), index=['A','B','C','D','E'])\n",
    "print (s2)\n",
    "monarray[1] = 22\n",
    "print (monarray,'\\n',s2)"
   ],
   "outputs": [
    {
     "output_type": "stream",
     "name": "stdout",
     "text": [
      "A    -0.968505\n",
      "B   -14.000000\n",
      "C    -1.665554\n",
      "D    -1.223180\n",
      "E    -0.351593\n",
      "dtype: float64\n",
      "[-0.96850466 22.         -1.6655539  -1.22318014 -0.35159315] \n",
      " A    -0.968505\n",
      "B   -14.000000\n",
      "C    -1.665554\n",
      "D    -1.223180\n",
      "E    -0.351593\n",
      "dtype: float64\n"
     ]
    }
   ],
   "metadata": {}
  },
  {
   "cell_type": "markdown",
   "source": [
    "Concernant les listes, on a également l'opération *copy* pour faire une copie de la liste sur une nouvelle liste. L'opérateur **\":\"** fait également une **copie** d'une **liste**, alors que sur un **array** Numpy, il fait une **vue**. "
   ],
   "metadata": {}
  },
  {
   "cell_type": "code",
   "execution_count": 9,
   "source": [
    "maliste = [2, 3, 5, -10, 15]\n",
    "l2 = maliste.copy()\n",
    "l3 = maliste[:]\n",
    "l4 = maliste\n",
    "\n",
    "maliste[1] = -4\n",
    "print(maliste, l2, l3, l4)\n",
    "\n",
    "a2 = monarray[:]\n",
    "print (monarray, '\\n', a2)\n",
    "monarray[1] = -5.0\n",
    "print (monarray,'\\n', a2)\n"
   ],
   "outputs": [
    {
     "output_type": "stream",
     "name": "stdout",
     "text": [
      "[2, -4, 5, -10, 15] [2, 3, 5, -10, 15] [2, 3, 5, -10, 15] [2, -4, 5, -10, 15]\n",
      "[-0.96850466 -5.         -1.6655539  -1.22318014 -0.35159315] \n",
      " [-0.96850466 -5.         -1.6655539  -1.22318014 -0.35159315]\n",
      "[-0.96850466 -5.         -1.6655539  -1.22318014 -0.35159315] \n",
      " [-0.96850466 -5.         -1.6655539  -1.22318014 -0.35159315]\n"
     ]
    }
   ],
   "metadata": {}
  },
  {
   "cell_type": "markdown",
   "source": [
    "### Récupération des valeurs ###\n",
    "on peut récupérer des valeurs dans une série par leur index ou par leur valeurs. "
   ],
   "metadata": {}
  },
  {
   "cell_type": "code",
   "execution_count": 16,
   "source": [
    "print (maserie)\n",
    "# par index\n",
    "horsEU = maserie[[\"USA\",\"Chine\"]]\n",
    "print(horsEU)\n",
    "print(type(horsEU))\n",
    "\n",
    "#par valeur --> requête\n",
    "petits = maserie[maserie<100]\n",
    "print('Petits :', petits)\n",
    "\n",
    "milieu = maserie[(maserie>100) & (maserie<1000)]\n",
    "print('Milieu :', milieu)\n",
    "\n",
    "# ou par position \n",
    "maserie[1:3]\n"
   ],
   "outputs": [
    {
     "output_type": "stream",
     "name": "stdout",
     "text": [
      "Suisse       8\n",
      "France      70\n",
      "USA        320\n",
      "Chine     1200\n",
      "dtype: int64\n",
      "USA       320\n",
      "Chine    1200\n",
      "dtype: int64\n",
      "<class 'pandas.core.series.Series'>\n",
      "Petits : Suisse     8\n",
      "France    70\n",
      "dtype: int64\n",
      "Milieu : USA    320\n",
      "dtype: int64\n"
     ]
    },
    {
     "output_type": "execute_result",
     "data": {
      "text/plain": [
       "France     70\n",
       "USA       320\n",
       "dtype: int64"
      ]
     },
     "metadata": {},
     "execution_count": 16
    }
   ],
   "metadata": {}
  }
 ],
 "metadata": {
  "interpreter": {
   "hash": "aee8b7b246df8f9039afb4144a1f6fd8d2ca17a180786b69acc140d282b71a49"
  },
  "kernelspec": {
   "name": "python3",
   "display_name": "Python 3.9.1 64-bit"
  },
  "language_info": {
   "codemirror_mode": {
    "name": "ipython",
    "version": 3
   },
   "file_extension": ".py",
   "mimetype": "text/x-python",
   "name": "python",
   "nbconvert_exporter": "python",
   "pygments_lexer": "ipython3",
   "version": "3.9.1"
  }
 },
 "nbformat": 4,
 "nbformat_minor": 2
}